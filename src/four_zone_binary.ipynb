version https://git-lfs.github.com/spec/v1
oid sha256:b68605d6cc4be96a5f3d489e4c6bbae90efd8b60e98b7819142f121d7106146b
size 448008
